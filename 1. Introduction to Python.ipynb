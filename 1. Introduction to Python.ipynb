{
  "cells": [
    {
      "cell_type": "markdown",
      "metadata": {
        "id": "shrYdQTfcOmC"
      },
      "source": [
        "# Introduction to Python"
      ]
    },
    {
      "cell_type": "markdown",
      "metadata": {
        "id": "pio7cToFcOmF"
      },
      "source": [
        "## What is Python?\n",
        "\n",
        "Python is an extremely common programming language that is becomming more and more popular with all types of programmers. It especially strong in data handling, and is the language of choice for AI and data science applications including machine learning. \n",
        "\n",
        "Python was invented in 1990 by Guido van Rossum and was specifically designed for programmers (not computers). Thus it's one of the best programming languages to learn as a first language. \n",
        "\n",
        "> So I set out to come up with a language that made programmers more productive, and if that meant that the programs would run a bit slower, well, that was an acceptable trade-off - Van Rossum\n",
        "\n",
        "\n"
      ]
    },
    {
      "cell_type": "markdown",
      "metadata": {
        "id": "CN_n9cpncOmF"
      },
      "source": [
        "### The Zen of Python\n",
        "\n",
        "Python has a philosophy built into the language"
      ]
    },
    {
      "cell_type": "code",
      "execution_count": 1,
      "metadata": {
        "colab": {
          "base_uri": "https://localhost:8080/"
        },
        "id": "49iSjrWfcOmG",
        "outputId": "f2bce13e-d477-4842-9b14-cd20023bc139"
      },
      "outputs": [
        {
          "output_type": "stream",
          "name": "stdout",
          "text": [
            "The Zen of Python, by Tim Peters\n",
            "\n",
            "Beautiful is better than ugly.\n",
            "Explicit is better than implicit.\n",
            "Simple is better than complex.\n",
            "Complex is better than complicated.\n",
            "Flat is better than nested.\n",
            "Sparse is better than dense.\n",
            "Readability counts.\n",
            "Special cases aren't special enough to break the rules.\n",
            "Although practicality beats purity.\n",
            "Errors should never pass silently.\n",
            "Unless explicitly silenced.\n",
            "In the face of ambiguity, refuse the temptation to guess.\n",
            "There should be one-- and preferably only one --obvious way to do it.\n",
            "Although that way may not be obvious at first unless you're Dutch.\n",
            "Now is better than never.\n",
            "Although never is often better than *right* now.\n",
            "If the implementation is hard to explain, it's a bad idea.\n",
            "If the implementation is easy to explain, it may be a good idea.\n",
            "Namespaces are one honking great idea -- let's do more of those!\n"
          ]
        }
      ],
      "source": [
        "import this"
      ]
    },
    {
      "cell_type": "markdown",
      "metadata": {
        "id": "8cM5SKcwcOmI"
      },
      "source": [
        "## Running the Python interperter\n",
        "\n",
        "If you are using the recommended Jupyter Lab, then you can eaisly access a terminal in the same window as this notebook\n",
        "\n",
        "We can start an interactive Python **interpreter** session by typing the following \n",
        "\n",
        "```bash\n",
        "#  the $ indicates the command is run in a shell\n",
        "$ python\n",
        "```\n",
        "\n",
        "We can see where this Python executable is located on our machine using the bash program `which`:"
      ]
    },
    {
      "cell_type": "code",
      "execution_count": 2,
      "metadata": {
        "id": "2KttMI9GcOmI"
      },
      "outputs": [],
      "source": [
        "#  use ! to run bash/shell code in the notebook directly\n"
      ]
    },
    {
      "cell_type": "markdown",
      "metadata": {
        "id": "48k_DY3TcOmJ"
      },
      "source": [
        "And what version of Python we are using by running Python with a command line argument:"
      ]
    },
    {
      "cell_type": "code",
      "execution_count": null,
      "metadata": {
        "id": "jOXHke_TcOmJ"
      },
      "outputs": [],
      "source": [
        "#  use ! to run bash/shell code in the notebook directly\n"
      ]
    },
    {
      "cell_type": "markdown",
      "metadata": {
        "id": "9Al2UPtAcOmJ"
      },
      "source": [
        "# Python development environment\n",
        "\n",
        "## iPython\n",
        "\n",
        "IPython = Interactive Python \n",
        "- command shell for interactive computing\n",
        "- IPython is what runs in Jupyter\n"
      ]
    },
    {
      "cell_type": "markdown",
      "metadata": {
        "id": "JXod7E_lcOmK"
      },
      "source": [
        "## Python development environments (IDEs)\n",
        "\n",
        "An IDE is where you develop your code. \n",
        "In Python, we run code in 2 different ways: \n",
        "- iPython: lets you run small snippets of code directly\n",
        "- Python: script mode, runs entire programs"
      ]
    },
    {
      "cell_type": "markdown",
      "metadata": {
        "id": "GX0oN1TEcOmK"
      },
      "source": [
        "## Using Python\n",
        "Python works with (mainly) 2 different things at the lowest level:\n",
        "1. Data types\n",
        "2. Functions\n",
        "\n",
        "Data types store data. Functions act on or change those bits of data.\n",
        "We name different <i> instances </i> of those data types and save them as variables to make our code easier to read and work with. "
      ]
    },
    {
      "cell_type": "markdown",
      "metadata": {
        "id": "iFvQjFg5cOmK"
      },
      "source": [
        "## Data Types - Numbers\n",
        "There are 2 different data types for holding numeric values in python - floats and integers.\n",
        "Python can be used just like a calculator to work on these numbers. "
      ]
    },
    {
      "cell_type": "code",
      "execution_count": 3,
      "metadata": {
        "colab": {
          "base_uri": "https://localhost:8080/"
        },
        "id": "qYalbAl9cOmK",
        "outputId": "ec77e9b0-9ea1-4796-e40b-041420a28112"
      },
      "outputs": [
        {
          "output_type": "execute_result",
          "data": {
            "text/plain": [
              "int"
            ]
          },
          "metadata": {},
          "execution_count": 3
        }
      ],
      "source": [
        "type(16)\n"
      ]
    },
    {
      "cell_type": "code",
      "execution_count": 4,
      "metadata": {
        "colab": {
          "base_uri": "https://localhost:8080/"
        },
        "id": "ix-TdWLncOmK",
        "outputId": "3de858c4-96c9-4ca5-b51d-4f87bc130600"
      },
      "outputs": [
        {
          "output_type": "execute_result",
          "data": {
            "text/plain": [
              "float"
            ]
          },
          "metadata": {},
          "execution_count": 4
        }
      ],
      "source": [
        "type(16.4)"
      ]
    },
    {
      "cell_type": "markdown",
      "metadata": {
        "id": "E-P4LROmcOmK"
      },
      "source": [
        "We can use the typical operators we know `(+, *, /, etc.) ` to perform math operations.\n",
        "\n",
        "NOTE: `=` in python is used to assign a variable to a name. It is NOT necessary for doinga math operation."
      ]
    },
    {
      "cell_type": "code",
      "execution_count": null,
      "metadata": {
        "id": "-YR9rdK6cOmL"
      },
      "outputs": [],
      "source": []
    },
    {
      "cell_type": "markdown",
      "metadata": {
        "id": "JOB4Slr9cOmL"
      },
      "source": [
        "Python will complete the operations based on correct order of operations."
      ]
    },
    {
      "cell_type": "code",
      "execution_count": 5,
      "metadata": {
        "colab": {
          "base_uri": "https://localhost:8080/"
        },
        "id": "D4pIqvIxcOmL",
        "outputId": "a77d7c7a-2dcd-41ac-82a8-ee8d7a70fe7d"
      },
      "outputs": [
        {
          "output_type": "execute_result",
          "data": {
            "text/plain": [
              "12"
            ]
          },
          "metadata": {},
          "execution_count": 5
        }
      ],
      "source": [
        "4*1*3"
      ]
    },
    {
      "cell_type": "markdown",
      "metadata": {
        "id": "CvWE-Jg3cOmL"
      },
      "source": [
        "We can do exponentiation:"
      ]
    },
    {
      "cell_type": "code",
      "execution_count": 6,
      "metadata": {
        "colab": {
          "base_uri": "https://localhost:8080/"
        },
        "id": "83LnXG0ZcOmL",
        "outputId": "e858e950-af76-49fd-aa2e-7c8de9f7e174"
      },
      "outputs": [
        {
          "output_type": "execute_result",
          "data": {
            "text/plain": [
              "16"
            ]
          },
          "metadata": {},
          "execution_count": 6
        }
      ],
      "source": [
        "4**2"
      ]
    },
    {
      "cell_type": "code",
      "execution_count": 7,
      "metadata": {
        "colab": {
          "base_uri": "https://localhost:8080/"
        },
        "id": "5bmIyJBLcOmL",
        "outputId": "435943b0-854d-47c9-df59-39a4213ee1d6"
      },
      "outputs": [
        {
          "output_type": "execute_result",
          "data": {
            "text/plain": [
              "4096.0"
            ]
          },
          "metadata": {},
          "execution_count": 7
        }
      ],
      "source": [
        "float(4)**6"
      ]
    },
    {
      "cell_type": "markdown",
      "metadata": {
        "id": "0IHv4E0icOmM"
      },
      "source": [
        "The modulo (`%`) operator gives us the remainder after division:"
      ]
    },
    {
      "cell_type": "code",
      "execution_count": 9,
      "metadata": {
        "colab": {
          "base_uri": "https://localhost:8080/"
        },
        "id": "u8vDckBscOmM",
        "outputId": "a64c058e-ee14-4011-cadc-19a10875c98f"
      },
      "outputs": [
        {
          "output_type": "execute_result",
          "data": {
            "text/plain": [
              "2"
            ]
          },
          "metadata": {},
          "execution_count": 9
        }
      ],
      "source": [
        "20%3"
      ]
    },
    {
      "cell_type": "markdown",
      "metadata": {
        "id": "HrsauwrGcOmM"
      },
      "source": [
        "This can be used to check if a number is even:"
      ]
    },
    {
      "cell_type": "code",
      "execution_count": 10,
      "metadata": {
        "colab": {
          "base_uri": "https://localhost:8080/"
        },
        "id": "TSBlTJ82cOmM",
        "outputId": "60e8211d-33dc-43ab-e99d-77a18a6539f6"
      },
      "outputs": [
        {
          "output_type": "execute_result",
          "data": {
            "text/plain": [
              "True"
            ]
          },
          "metadata": {},
          "execution_count": 10
        }
      ],
      "source": [
        "20%2==0"
      ]
    },
    {
      "cell_type": "markdown",
      "metadata": {
        "id": "pdqyPox5cOmM"
      },
      "source": [
        "## Data Types - Booleans"
      ]
    },
    {
      "cell_type": "code",
      "execution_count": null,
      "metadata": {
        "id": "qkgH5yzKcOmN"
      },
      "outputs": [],
      "source": []
    },
    {
      "cell_type": "code",
      "execution_count": null,
      "metadata": {
        "id": "ROKavQ7GcOmN"
      },
      "outputs": [],
      "source": []
    },
    {
      "cell_type": "markdown",
      "metadata": {
        "id": "2zI1jQqDcOmN"
      },
      "source": [
        "Many expressions in Python have a \"truth value\" and evaluate to one of the two boolean values.\n",
        "- values which are evaluated to `True` or `False`"
      ]
    },
    {
      "cell_type": "code",
      "execution_count": null,
      "metadata": {
        "id": "ZrncQAQNcOmN"
      },
      "outputs": [],
      "source": []
    },
    {
      "cell_type": "code",
      "source": [
        "bool(None)"
      ],
      "metadata": {
        "colab": {
          "base_uri": "https://localhost:8080/"
        },
        "id": "Gq9s7MZ3erON",
        "outputId": "54ef9466-1ede-4eca-a7c3-ba411372fcff"
      },
      "execution_count": 11,
      "outputs": [
        {
          "output_type": "execute_result",
          "data": {
            "text/plain": [
              "False"
            ]
          },
          "metadata": {},
          "execution_count": 11
        }
      ]
    },
    {
      "cell_type": "code",
      "execution_count": 12,
      "metadata": {
        "colab": {
          "base_uri": "https://localhost:8080/"
        },
        "id": "gWN9ctRGcOmN",
        "outputId": "0ada235b-b01a-40cc-a353-ea55c9e8af1c"
      },
      "outputs": [
        {
          "output_type": "execute_result",
          "data": {
            "text/plain": [
              "False"
            ]
          },
          "metadata": {},
          "execution_count": 12
        }
      ],
      "source": [
        "bool([])"
      ]
    },
    {
      "cell_type": "code",
      "execution_count": null,
      "metadata": {
        "id": "lDetp7aQcOmN"
      },
      "outputs": [],
      "source": []
    },
    {
      "cell_type": "code",
      "execution_count": null,
      "metadata": {
        "id": "fklgKYdhcOmN"
      },
      "outputs": [],
      "source": []
    },
    {
      "cell_type": "code",
      "execution_count": null,
      "metadata": {
        "id": "Ing9nhXIcOmN"
      },
      "outputs": [],
      "source": []
    },
    {
      "cell_type": "code",
      "execution_count": null,
      "metadata": {
        "id": "4uDhRiu_cOmN"
      },
      "outputs": [],
      "source": []
    },
    {
      "cell_type": "code",
      "execution_count": null,
      "metadata": {
        "id": "Utu3ZFVYcOmO"
      },
      "outputs": [],
      "source": []
    },
    {
      "cell_type": "markdown",
      "metadata": {
        "id": "dlXY2vFvcOmO"
      },
      "source": [
        "## Data Types: Strings\n",
        "\n",
        "String data types hold text data. If a number appears in a string, it isn't treated as a number (can't be added, multiplied, etc.).\n",
        "They can be written in multiple ways:\n",
        "\n",
        "Can use `\"`, `'` or `str()`"
      ]
    },
    {
      "cell_type": "code",
      "execution_count": 13,
      "metadata": {
        "colab": {
          "base_uri": "https://localhost:8080/"
        },
        "id": "7jorNHnLcOmO",
        "outputId": "d7605226-ab40-4933-bca9-eaab7a42fe34"
      },
      "outputs": [
        {
          "output_type": "execute_result",
          "data": {
            "text/plain": [
              "str"
            ]
          },
          "metadata": {},
          "execution_count": 13
        }
      ],
      "source": [
        "type('this is fine')"
      ]
    },
    {
      "cell_type": "code",
      "execution_count": 14,
      "metadata": {
        "colab": {
          "base_uri": "https://localhost:8080/"
        },
        "id": "gN1cND4ycOmO",
        "outputId": "db5f924f-554b-490f-b974-3d8ea73e93e9"
      },
      "outputs": [
        {
          "output_type": "execute_result",
          "data": {
            "text/plain": [
              "str"
            ]
          },
          "metadata": {},
          "execution_count": 14
        }
      ],
      "source": [
        "type(\"this is fine\")"
      ]
    },
    {
      "cell_type": "code",
      "source": [
        "str(16)"
      ],
      "metadata": {
        "colab": {
          "base_uri": "https://localhost:8080/",
          "height": 35
        },
        "id": "CLoSTcEYfY-W",
        "outputId": "48d80445-4b86-4a36-8f52-3ba772210b03"
      },
      "execution_count": 15,
      "outputs": [
        {
          "output_type": "execute_result",
          "data": {
            "text/plain": [
              "'16'"
            ],
            "application/vnd.google.colaboratory.intrinsic+json": {
              "type": "string"
            }
          },
          "metadata": {},
          "execution_count": 15
        }
      ]
    },
    {
      "cell_type": "markdown",
      "metadata": {
        "id": "z-PC45LtcOmO"
      },
      "source": [
        "Files are just big lists of characters\n",
        "\n",
        "`\\n` in the newine character "
      ]
    },
    {
      "cell_type": "code",
      "execution_count": null,
      "metadata": {
        "id": "Eq_tJjx4cOmO"
      },
      "outputs": [],
      "source": [
        "lines= \"Fist line\""
      ]
    },
    {
      "cell_type": "markdown",
      "metadata": {
        "id": "9aAkEDdOcOmO"
      },
      "source": [
        "Multiple line strings:"
      ]
    },
    {
      "cell_type": "code",
      "execution_count": null,
      "metadata": {
        "id": "TjzQ8EcQcOmP"
      },
      "outputs": [],
      "source": []
    },
    {
      "cell_type": "code",
      "execution_count": null,
      "metadata": {
        "id": "l2QMoXSacOmP"
      },
      "outputs": [],
      "source": [
        "# showing that the line break is read from the typed line break\n"
      ]
    },
    {
      "cell_type": "markdown",
      "metadata": {
        "id": "63vd92Q5cOmP"
      },
      "source": [
        "Strings next to each other are joined:"
      ]
    },
    {
      "cell_type": "code",
      "execution_count": 16,
      "metadata": {
        "colab": {
          "base_uri": "https://localhost:8080/",
          "height": 35
        },
        "id": "5hyXXJ-0cOmP",
        "outputId": "23997045-3a6a-4348-c88b-ed3fceac3785"
      },
      "outputs": [
        {
          "output_type": "execute_result",
          "data": {
            "text/plain": [
              "'Python'"
            ],
            "application/vnd.google.colaboratory.intrinsic+json": {
              "type": "string"
            }
          },
          "metadata": {},
          "execution_count": 16
        }
      ],
      "source": [
        "\"Py\"\"thon\""
      ]
    },
    {
      "cell_type": "code",
      "execution_count": null,
      "metadata": {
        "id": "8NKMKgmRcOmP"
      },
      "outputs": [],
      "source": []
    },
    {
      "cell_type": "markdown",
      "metadata": {
        "id": "JJUaviDlcOmP"
      },
      "source": [
        "We can add strings together (called concatenation):"
      ]
    },
    {
      "cell_type": "code",
      "execution_count": 17,
      "metadata": {
        "colab": {
          "base_uri": "https://localhost:8080/",
          "height": 35
        },
        "id": "cbWA_mXncOmQ",
        "outputId": "38e4b7b0-06f4-4a21-9b82-3e3fba0e119a"
      },
      "outputs": [
        {
          "output_type": "execute_result",
          "data": {
            "text/plain": [
              "'janein'"
            ],
            "application/vnd.google.colaboratory.intrinsic+json": {
              "type": "string"
            }
          },
          "metadata": {},
          "execution_count": 17
        }
      ],
      "source": [
        "\"ja\" + \"nein\""
      ]
    },
    {
      "cell_type": "code",
      "execution_count": 19,
      "metadata": {
        "colab": {
          "base_uri": "https://localhost:8080/",
          "height": 35
        },
        "id": "lPd1kEFecOmQ",
        "outputId": "23a70ac9-a081-4232-c99b-5c81e2796aa2"
      },
      "outputs": [
        {
          "output_type": "execute_result",
          "data": {
            "text/plain": [
              "'ja nein'"
            ],
            "application/vnd.google.colaboratory.intrinsic+json": {
              "type": "string"
            }
          },
          "metadata": {},
          "execution_count": 19
        }
      ],
      "source": [
        "\"ja\" + \" \" + \"nein\""
      ]
    },
    {
      "cell_type": "markdown",
      "metadata": {
        "id": "NhCxugE-cOmQ"
      },
      "source": [
        "And multiply them:"
      ]
    },
    {
      "cell_type": "code",
      "execution_count": 21,
      "metadata": {
        "colab": {
          "base_uri": "https://localhost:8080/",
          "height": 35
        },
        "id": "v1OJ5X9LcOmQ",
        "outputId": "07b008bd-03fb-43c2-c741-c94a3c9177a0"
      },
      "outputs": [
        {
          "output_type": "execute_result",
          "data": {
            "text/plain": [
              "'jajaja'"
            ],
            "application/vnd.google.colaboratory.intrinsic+json": {
              "type": "string"
            }
          },
          "metadata": {},
          "execution_count": 21
        }
      ],
      "source": [
        "\"ja\"*3"
      ]
    },
    {
      "cell_type": "code",
      "execution_count": null,
      "metadata": {
        "id": "UcANNVGGcOmQ"
      },
      "outputs": [],
      "source": []
    },
    {
      "cell_type": "markdown",
      "metadata": {
        "id": "TZCjKNRmcOmQ"
      },
      "source": [
        "What happens when we try to multiply this string?:"
      ]
    },
    {
      "cell_type": "code",
      "execution_count": null,
      "metadata": {
        "id": "jboco9FycOmQ"
      },
      "outputs": [],
      "source": []
    },
    {
      "cell_type": "markdown",
      "metadata": {
        "id": "G0DSgtMRcOmQ"
      },
      "source": [
        "## String formatting\n",
        "\n",
        "There are many formatting tricks in Python to control how strings appear. \n",
        "Most formatting commands involve the `{}` curly brackets."
      ]
    },
    {
      "cell_type": "code",
      "execution_count": 26,
      "metadata": {
        "colab": {
          "base_uri": "https://localhost:8080/",
          "height": 133
        },
        "id": "oJHDdMVscOmQ",
        "outputId": "44a01594-86a7-47c3-f05b-e678ac34c153"
      },
      "outputs": [
        {
          "output_type": "error",
          "ename": "SyntaxError",
          "evalue": "ignored",
          "traceback": [
            "\u001b[0;36m  File \u001b[0;32m\"<ipython-input-26-e2d50554a420>\"\u001b[0;36m, line \u001b[0;32m2\u001b[0m\n\u001b[0;31m    print(\"Today is day:{}\".format(day)\u001b[0m\n\u001b[0m                                       ^\u001b[0m\n\u001b[0;31mSyntaxError\u001b[0m\u001b[0;31m:\u001b[0m unexpected EOF while parsing\n"
          ]
        }
      ],
      "source": [
        "day=\"Wednesday\"\n",
        "print(\"Today is day:{}\".format(day)"
      ]
    },
    {
      "cell_type": "code",
      "execution_count": null,
      "metadata": {
        "id": "zajXu5uXcOmQ"
      },
      "outputs": [],
      "source": []
    },
    {
      "cell_type": "markdown",
      "metadata": {
        "id": "HV7cZZtocOmR"
      },
      "source": [
        "We can control the formatting of decimal places"
      ]
    },
    {
      "cell_type": "code",
      "execution_count": null,
      "metadata": {
        "id": "0FciB6AocOmR"
      },
      "outputs": [],
      "source": []
    },
    {
      "cell_type": "markdown",
      "metadata": {
        "id": "F-oXDNwIcOmR"
      },
      "source": [
        "## String stripping\n",
        "\n",
        "A common operation is removing whitespaces:"
      ]
    },
    {
      "cell_type": "code",
      "execution_count": null,
      "metadata": {
        "id": "1aHP0-35cOmR"
      },
      "outputs": [],
      "source": []
    },
    {
      "cell_type": "markdown",
      "metadata": {
        "id": "ci8JGJBscOmR"
      },
      "source": [
        "Related is to remove characters from the string - this can be done by replacing with `''`"
      ]
    },
    {
      "cell_type": "code",
      "execution_count": null,
      "metadata": {
        "id": "wkaAF1VIcOmR"
      },
      "outputs": [],
      "source": []
    },
    {
      "cell_type": "markdown",
      "metadata": {
        "id": "hjyUSqSVcOmR"
      },
      "source": [
        "## `in`\n",
        "\n",
        "A way to check if an object exists in an iterable using `in`.  As strings are iterable, this syntax works with strings:"
      ]
    },
    {
      "cell_type": "code",
      "execution_count": 27,
      "metadata": {
        "id": "8ZQfWEpscOmS"
      },
      "outputs": [],
      "source": [
        "new_string =\"Python\""
      ]
    },
    {
      "cell_type": "code",
      "execution_count": 28,
      "metadata": {
        "colab": {
          "base_uri": "https://localhost:8080/"
        },
        "id": "L9fyeLKNcOmS",
        "outputId": "153d04c5-78b6-4dcc-cd79-61ed3c2cc225"
      },
      "outputs": [
        {
          "output_type": "execute_result",
          "data": {
            "text/plain": [
              "True"
            ]
          },
          "metadata": {},
          "execution_count": 28
        }
      ],
      "source": [
        "\"P\" in new_string"
      ]
    },
    {
      "cell_type": "code",
      "execution_count": null,
      "metadata": {
        "id": "xxh02rSGcOmS"
      },
      "outputs": [],
      "source": []
    },
    {
      "cell_type": "markdown",
      "metadata": {
        "id": "fptKQu0UcOmS"
      },
      "source": [
        "## Comparisons\n",
        "a double equals sign is used to compute comparisons in Python.\n",
        "\n",
        "An exclamation sign followed by an equals sign means \"is not equal to\""
      ]
    },
    {
      "cell_type": "code",
      "execution_count": 29,
      "metadata": {
        "colab": {
          "base_uri": "https://localhost:8080/"
        },
        "id": "7Sm8BfqEcOmS",
        "outputId": "c39d106c-fedb-47e7-efa8-cd3fe85eec9d"
      },
      "outputs": [
        {
          "output_type": "execute_result",
          "data": {
            "text/plain": [
              "False"
            ]
          },
          "metadata": {},
          "execution_count": 29
        }
      ],
      "source": [
        "5==6"
      ]
    },
    {
      "cell_type": "code",
      "execution_count": 30,
      "metadata": {
        "colab": {
          "base_uri": "https://localhost:8080/"
        },
        "id": "C9GAvRPocOmS",
        "outputId": "90e9754f-7026-44dc-8596-af27cf9d2336"
      },
      "outputs": [
        {
          "output_type": "execute_result",
          "data": {
            "text/plain": [
              "True"
            ]
          },
          "metadata": {},
          "execution_count": 30
        }
      ],
      "source": [
        "5!=6"
      ]
    },
    {
      "cell_type": "code",
      "execution_count": null,
      "metadata": {
        "id": "qVY3SyZncOmS"
      },
      "outputs": [],
      "source": []
    },
    {
      "cell_type": "markdown",
      "metadata": {
        "id": "3VmO-nRRcOmS"
      },
      "source": [
        "## Logical operators\n",
        "\n",
        "`and`, `or`, `not`"
      ]
    },
    {
      "cell_type": "code",
      "execution_count": 31,
      "metadata": {
        "colab": {
          "base_uri": "https://localhost:8080/"
        },
        "id": "srXzYgEGcOmS",
        "outputId": "ae6720f4-254b-403b-dd6a-59ea2eef7e88"
      },
      "outputs": [
        {
          "output_type": "execute_result",
          "data": {
            "text/plain": [
              "True"
            ]
          },
          "metadata": {},
          "execution_count": 31
        }
      ],
      "source": [
        "True and True"
      ]
    },
    {
      "cell_type": "code",
      "execution_count": 32,
      "metadata": {
        "colab": {
          "base_uri": "https://localhost:8080/"
        },
        "id": "ax45F4JPcOmT",
        "outputId": "b4401f5d-5984-4ad5-f980-6e31f0ece77a"
      },
      "outputs": [
        {
          "output_type": "execute_result",
          "data": {
            "text/plain": [
              "False"
            ]
          },
          "metadata": {},
          "execution_count": 32
        }
      ],
      "source": [
        "True and False"
      ]
    },
    {
      "cell_type": "code",
      "execution_count": 33,
      "metadata": {
        "colab": {
          "base_uri": "https://localhost:8080/"
        },
        "id": "yh5GlKnTcOmT",
        "outputId": "013eec20-b641-4b8e-dd3e-2ee3eef66864"
      },
      "outputs": [
        {
          "output_type": "execute_result",
          "data": {
            "text/plain": [
              "True"
            ]
          },
          "metadata": {},
          "execution_count": 33
        }
      ],
      "source": [
        "True or False"
      ]
    },
    {
      "cell_type": "code",
      "execution_count": 34,
      "metadata": {
        "colab": {
          "base_uri": "https://localhost:8080/"
        },
        "id": "sXEuuuaucOmT",
        "outputId": "488e3dba-43ef-41a0-a992-0f11c1c9794b"
      },
      "outputs": [
        {
          "output_type": "execute_result",
          "data": {
            "text/plain": [
              "True"
            ]
          },
          "metadata": {},
          "execution_count": 34
        }
      ],
      "source": [
        "True is not False"
      ]
    },
    {
      "cell_type": "markdown",
      "metadata": {
        "id": "hF-Fenx2cOmT"
      },
      "source": [
        "## Conditionals\n",
        "Booleans can be used in conditional commands. \n",
        "Conditional commands work just like the \"IF..THEN..\" command you know from Microsoft Excel.\n",
        "\n",
        "\n",
        "Try changing the value of X in the example below:"
      ]
    },
    {
      "cell_type": "code",
      "execution_count": 37,
      "metadata": {
        "id": "Mka46gyHcOmT"
      },
      "outputs": [],
      "source": [
        "x = 5 "
      ]
    },
    {
      "cell_type": "code",
      "execution_count": 38,
      "metadata": {
        "colab": {
          "base_uri": "https://localhost:8080/"
        },
        "id": "0PdJxBqScOmT",
        "outputId": "61e10e25-21d7-4ed3-e2c7-c48824b7d376"
      },
      "outputs": [
        {
          "output_type": "stream",
          "name": "stdout",
          "text": [
            "x is less than 10\n"
          ]
        }
      ],
      "source": [
        "if x <= 10:\n",
        "  print(\"x is less than 10\")\n",
        "else:\n",
        "  print(\"x is greater than 10 \")"
      ]
    },
    {
      "cell_type": "markdown",
      "metadata": {
        "id": "Ehvrqx7acOmT"
      },
      "source": [
        "We can add almost infinite layers to our conditional by adding `elif` to the conditional block"
      ]
    },
    {
      "cell_type": "code",
      "execution_count": 39,
      "metadata": {
        "id": "jHQaMCH9cOmT"
      },
      "outputs": [],
      "source": [
        "y=20"
      ]
    },
    {
      "cell_type": "code",
      "execution_count": 40,
      "metadata": {
        "colab": {
          "base_uri": "https://localhost:8080/",
          "height": 133
        },
        "id": "LZqIsGjScOmU",
        "outputId": "a1c2beb3-5889-4cc0-d3b0-7ae09f0a1223"
      },
      "outputs": [
        {
          "output_type": "error",
          "ename": "SyntaxError",
          "evalue": "ignored",
          "traceback": [
            "\u001b[0;36m  File \u001b[0;32m\"<ipython-input-40-6e4e51609f55>\"\u001b[0;36m, line \u001b[0;32m5\u001b[0m\n\u001b[0;31m    elif:\u001b[0m\n\u001b[0m        ^\u001b[0m\n\u001b[0;31mSyntaxError\u001b[0m\u001b[0;31m:\u001b[0m invalid syntax\n"
          ]
        }
      ],
      "source": [
        "if x<= 10 or y<= 10:\n",
        "  print(\"one of the numbers is less than or equal to 10\")\n",
        "elif x>20:\n",
        "  print(\"x is greater than 10\")\n",
        "elif:\n",
        "  print(\"x is between 11 and 19\")"
      ]
    },
    {
      "cell_type": "markdown",
      "metadata": {
        "id": "KcolLlINcOmU"
      },
      "source": [
        "## Datatypes: List\n",
        "A list in python is a collection of datapoints. It is created with brackets `[]` or using `list()`. \n",
        "We can use **selectors** to select specific items within the list."
      ]
    },
    {
      "cell_type": "code",
      "execution_count": 41,
      "metadata": {
        "id": "t2FoJT3ocOmU"
      },
      "outputs": [],
      "source": [
        "my_list = [1, 1.0, \"hello\"]"
      ]
    },
    {
      "cell_type": "markdown",
      "metadata": {
        "id": "enYZnVJfcOmU"
      },
      "source": [
        "Selectors are called after the list using `[]`. PYthon starts counting at 0. To get the first element of the list then, we need to use 0 inside the selector. To get the second item, we would put a 1 inside the selector. \n",
        "\n",
        "We can also start from the back of the list, using -1. Then every positional element we want to get after the last one, we subtract one further. For example, if we want to get the 2nd-from-last element, we could select this element by putting -2 in the selector. "
      ]
    },
    {
      "cell_type": "code",
      "execution_count": 42,
      "metadata": {
        "colab": {
          "base_uri": "https://localhost:8080/"
        },
        "id": "KqMQIhWFcOmU",
        "outputId": "493f32d7-b312-4100-f1e4-4041ad36b96f"
      },
      "outputs": [
        {
          "output_type": "execute_result",
          "data": {
            "text/plain": [
              "1"
            ]
          },
          "metadata": {},
          "execution_count": 42
        }
      ],
      "source": [
        "my_list[0]"
      ]
    },
    {
      "cell_type": "code",
      "execution_count": 43,
      "metadata": {
        "colab": {
          "base_uri": "https://localhost:8080/"
        },
        "id": "Ci7c3h7WcOmU",
        "outputId": "eaadb9d0-dce6-4167-d659-22a90df59e37"
      },
      "outputs": [
        {
          "output_type": "execute_result",
          "data": {
            "text/plain": [
              "1.0"
            ]
          },
          "metadata": {},
          "execution_count": 43
        }
      ],
      "source": [
        "my_list[1]"
      ]
    },
    {
      "cell_type": "code",
      "execution_count": 44,
      "metadata": {
        "colab": {
          "base_uri": "https://localhost:8080/",
          "height": 35
        },
        "id": "DGU9ThS3cOmU",
        "outputId": "d9f6d476-f5b4-4707-a6cf-128e8546d48b"
      },
      "outputs": [
        {
          "output_type": "execute_result",
          "data": {
            "text/plain": [
              "'hello'"
            ],
            "application/vnd.google.colaboratory.intrinsic+json": {
              "type": "string"
            }
          },
          "metadata": {},
          "execution_count": 44
        }
      ],
      "source": [
        "my_list[-1]"
      ]
    },
    {
      "cell_type": "code",
      "execution_count": 45,
      "metadata": {
        "colab": {
          "base_uri": "https://localhost:8080/"
        },
        "id": "ctfFJO-fcOmU",
        "outputId": "a34b7b47-dd3a-483f-fbd4-f3ca1ef22393"
      },
      "outputs": [
        {
          "output_type": "execute_result",
          "data": {
            "text/plain": [
              "1.0"
            ]
          },
          "metadata": {},
          "execution_count": 45
        }
      ],
      "source": [
        "[1, 1.0, \"hello\"][1]"
      ]
    },
    {
      "cell_type": "markdown",
      "metadata": {
        "id": "M-0ss29xcOmU"
      },
      "source": [
        "Selecting a range of a list"
      ]
    },
    {
      "cell_type": "code",
      "execution_count": 47,
      "metadata": {
        "id": "Xi6Tz0n1cOmV"
      },
      "outputs": [],
      "source": [
        "weekdays = [\n",
        "    \"Monday\",\n",
        "    \"Tuesday\",\n",
        "    \"Wednesday\",\n",
        "    \"Thursday\",\n",
        "    \"Friday\",\n",
        "    \"Saturday\",\n",
        "    \"Sunday\"\n",
        "]"
      ]
    },
    {
      "cell_type": "markdown",
      "metadata": {
        "id": "sl76vp-QcOmV"
      },
      "source": [
        "Select Thursday and Friday from the list"
      ]
    },
    {
      "cell_type": "code",
      "execution_count": 48,
      "metadata": {
        "colab": {
          "base_uri": "https://localhost:8080/"
        },
        "id": "I4SGy03OcOmV",
        "outputId": "5ff60860-ef28-411d-efdf-e14add1d9212"
      },
      "outputs": [
        {
          "output_type": "execute_result",
          "data": {
            "text/plain": [
              "['Thursday', 'Friday']"
            ]
          },
          "metadata": {},
          "execution_count": 48
        }
      ],
      "source": [
        "weekdays[3:5]"
      ]
    },
    {
      "cell_type": "code",
      "source": [
        "weekdays[0,-1]"
      ],
      "metadata": {
        "colab": {
          "base_uri": "https://localhost:8080/",
          "height": 169
        },
        "id": "TKzDlFwhqNR1",
        "outputId": "6875eebf-7155-48c0-9e5f-354b7bbc4ba9"
      },
      "execution_count": 49,
      "outputs": [
        {
          "output_type": "error",
          "ename": "TypeError",
          "evalue": "ignored",
          "traceback": [
            "\u001b[0;31m---------------------------------------------------------------------------\u001b[0m",
            "\u001b[0;31mTypeError\u001b[0m                                 Traceback (most recent call last)",
            "\u001b[0;32m<ipython-input-49-db649684a66f>\u001b[0m in \u001b[0;36m<cell line: 1>\u001b[0;34m()\u001b[0m\n\u001b[0;32m----> 1\u001b[0;31m \u001b[0mweekdays\u001b[0m\u001b[0;34m[\u001b[0m\u001b[0;36m0\u001b[0m\u001b[0;34m,\u001b[0m\u001b[0;34m-\u001b[0m\u001b[0;36m1\u001b[0m\u001b[0;34m]\u001b[0m\u001b[0;34m\u001b[0m\u001b[0;34m\u001b[0m\u001b[0m\n\u001b[0m",
            "\u001b[0;31mTypeError\u001b[0m: list indices must be integers or slices, not tuple"
          ]
        }
      ]
    },
    {
      "cell_type": "markdown",
      "metadata": {
        "id": "uLUj2E4fcOmV"
      },
      "source": [
        "## Variables & objects\n",
        "\n",
        "In Python (unlike other languages) there is a difference between **objects** and **variables**:\n",
        "- object = the actual data in memory\n",
        "- variable = a label that refers to an object\n",
        "\n",
        "Objects have an identity, type and value.  Only the value changes over time.\n",
        "\n",
        "In Python, variables **refer** to objects.  They are labels for objects - not the object themselves.\n",
        "- one object can have many labels\n",
        "- one label = only one object\n",
        "\n",
        "Below we create two objects"
      ]
    },
    {
      "cell_type": "code",
      "execution_count": 50,
      "metadata": {
        "id": "DQWzSYsVcOmV"
      },
      "outputs": [],
      "source": [
        "first =[2,4,5]\n",
        "second= [2,4,5]"
      ]
    },
    {
      "cell_type": "markdown",
      "metadata": {
        "id": "ZSvEy-r2cOmV"
      },
      "source": [
        "We can use two different operators to compare these variables.\n",
        "\n",
        "The `==` operator checks if the two objects have the same values:"
      ]
    },
    {
      "cell_type": "code",
      "execution_count": 51,
      "metadata": {
        "colab": {
          "base_uri": "https://localhost:8080/"
        },
        "id": "87PnirehcOmW",
        "outputId": "e7176aa6-9c89-4c4b-f790-5a373201a8f5"
      },
      "outputs": [
        {
          "output_type": "execute_result",
          "data": {
            "text/plain": [
              "True"
            ]
          },
          "metadata": {},
          "execution_count": 51
        }
      ],
      "source": [
        "second == first"
      ]
    },
    {
      "cell_type": "markdown",
      "metadata": {
        "id": "OFtWw7RycOmW"
      },
      "source": [
        "The `is` operator checks whether both variables refer to the same object:"
      ]
    },
    {
      "cell_type": "code",
      "execution_count": 52,
      "metadata": {
        "id": "oBAJNDrjcOmW"
      },
      "outputs": [],
      "source": [
        "third = first"
      ]
    },
    {
      "cell_type": "code",
      "execution_count": null,
      "metadata": {
        "id": "Twa6HdqwcOmW"
      },
      "outputs": [],
      "source": []
    },
    {
      "cell_type": "code",
      "execution_count": null,
      "metadata": {
        "id": "wcimbJOAcOmW"
      },
      "outputs": [],
      "source": []
    },
    {
      "cell_type": "code",
      "execution_count": null,
      "metadata": {
        "id": "_ZtHdR0IcOmW"
      },
      "outputs": [],
      "source": []
    },
    {
      "cell_type": "code",
      "execution_count": null,
      "metadata": {
        "id": "H6vfsB0GcOmX"
      },
      "outputs": [],
      "source": []
    },
    {
      "cell_type": "markdown",
      "metadata": {
        "id": "44ccs9TGcOmX"
      },
      "source": [
        "Under the hood Python is comparing the object's `id` - a unique value for each object:"
      ]
    },
    {
      "cell_type": "code",
      "execution_count": null,
      "metadata": {
        "id": "iQkiKBBicOmX"
      },
      "outputs": [],
      "source": []
    },
    {
      "cell_type": "code",
      "execution_count": null,
      "metadata": {
        "id": "hWh3cOpdcOmX"
      },
      "outputs": [],
      "source": []
    },
    {
      "cell_type": "code",
      "execution_count": null,
      "metadata": {
        "id": "iaHEYUBPcOmX"
      },
      "outputs": [],
      "source": []
    },
    {
      "cell_type": "code",
      "execution_count": null,
      "metadata": {
        "id": "09Pla8xHcOmX"
      },
      "outputs": [],
      "source": []
    },
    {
      "cell_type": "markdown",
      "metadata": {
        "id": "2h4ga6w9cOmX"
      },
      "source": [
        "# Loops\n",
        "In Python (and programming in general), we'll find many times when we want to do the same calculation over multiple values. This is what loops are for. They allow us to iterrate through lists, or rows in a table of data. \n",
        "\n",
        "### `for`\n",
        "\n",
        "We can iterate through any object that has multiple smaller objects within it, like a list. \n",
        "A list contains multiple smaller elements within it. "
      ]
    },
    {
      "cell_type": "code",
      "execution_count": 53,
      "metadata": {
        "colab": {
          "base_uri": "https://localhost:8080/"
        },
        "id": "v0d01IzHcOmX",
        "outputId": "48a45ae1-5c80-411e-b4d5-eed373c9aa58"
      },
      "outputs": [
        {
          "output_type": "stream",
          "name": "stdout",
          "text": [
            "2\n",
            "4\n",
            "5\n"
          ]
        }
      ],
      "source": [
        "for i in first:\n",
        "  print(i)"
      ]
    },
    {
      "cell_type": "code",
      "execution_count": 54,
      "metadata": {
        "colab": {
          "base_uri": "https://localhost:8080/"
        },
        "id": "pgf_jhUNcOmY",
        "outputId": "015c9297-110e-4b39-fc5b-76591f5b9545"
      },
      "outputs": [
        {
          "output_type": "stream",
          "name": "stdout",
          "text": [
            "old number is:  1\n",
            "new number is:  6\n",
            "old number is:  5\n",
            "new number is:  10\n",
            "old number is:  8\n",
            "new number is:  13\n",
            "old number is:  12\n",
            "new number is:  17\n",
            "old number is:  6\n",
            "new number is:  11\n"
          ]
        }
      ],
      "source": [
        "p = [1,5,8,12,6]\n",
        "for i in p:\n",
        "  new_number = i+5\n",
        "  print(\"old number is: \", i)\n",
        "  print(\"new number is: \", new_number)"
      ]
    },
    {
      "cell_type": "code",
      "source": [
        "p = [1,5,8,12,6]\n",
        "for i in p:\n",
        "  new_number = i+5\n",
        "  print(\"old number is: \", i)\n",
        "  print(\"new number is: \", new_number)"
      ],
      "metadata": {
        "id": "OZVKMexYwfNC"
      },
      "execution_count": null,
      "outputs": []
    },
    {
      "cell_type": "code",
      "source": [],
      "metadata": {
        "id": "kYbrvWuAwXCl"
      },
      "execution_count": null,
      "outputs": []
    },
    {
      "cell_type": "markdown",
      "metadata": {
        "id": "EVSUfymKcOmY"
      },
      "source": [
        "Question: What will happen if we call `new_number` now?"
      ]
    },
    {
      "cell_type": "code",
      "execution_count": null,
      "metadata": {
        "id": "WATpl6tZcOmZ"
      },
      "outputs": [],
      "source": []
    },
    {
      "cell_type": "markdown",
      "metadata": {
        "id": "zVaZ_ho3cOmZ"
      },
      "source": [
        "How could we see all of the new_numbers?"
      ]
    },
    {
      "cell_type": "code",
      "execution_count": null,
      "metadata": {
        "id": "9hej88YDcOmZ"
      },
      "outputs": [],
      "source": []
    },
    {
      "cell_type": "code",
      "execution_count": null,
      "metadata": {
        "id": "SihGnIh2cOmZ"
      },
      "outputs": [],
      "source": []
    },
    {
      "cell_type": "markdown",
      "metadata": {
        "id": "62UTovlacOmZ"
      },
      "source": [
        "A useful tool in python exists for making increasing 'counting-style' lists. This is called `range`. With range, the programmer enters the value at which they want the list to start and stop, and the 'step' of the list. Normally this would be 1. Setting the step to 2 counts off by skipping the intermediary number."
      ]
    },
    {
      "cell_type": "code",
      "execution_count": 56,
      "metadata": {
        "colab": {
          "base_uri": "https://localhost:8080/"
        },
        "id": "tZi7Zh3qcOma",
        "outputId": "b9d057b3-1b65-4817-8520-f2650b5d3ed5"
      },
      "outputs": [
        {
          "output_type": "execute_result",
          "data": {
            "text/plain": [
              "range(0, 10)"
            ]
          },
          "metadata": {},
          "execution_count": 56
        }
      ],
      "source": [
        "range(10)"
      ]
    },
    {
      "cell_type": "markdown",
      "metadata": {
        "id": "Pa-yEWDYcOma"
      },
      "source": [
        "Range doesn't \"show\" the list, have to convert it to a list to see this. However, it is still iterable."
      ]
    },
    {
      "cell_type": "code",
      "execution_count": 57,
      "metadata": {
        "colab": {
          "base_uri": "https://localhost:8080/"
        },
        "id": "DFdEJtS4cOma",
        "outputId": "6f193734-fbf9-4df6-8f9a-69712eca7a82"
      },
      "outputs": [
        {
          "output_type": "execute_result",
          "data": {
            "text/plain": [
              "[0, 1, 2, 3, 4, 5, 6, 7, 8, 9]"
            ]
          },
          "metadata": {},
          "execution_count": 57
        }
      ],
      "source": [
        "list(range(10))"
      ]
    },
    {
      "cell_type": "code",
      "execution_count": 58,
      "metadata": {
        "colab": {
          "base_uri": "https://localhost:8080/"
        },
        "id": "jijJwyaKcOma",
        "outputId": "2379a05d-35b4-41b6-ca33-6a380dc4b1f2"
      },
      "outputs": [
        {
          "output_type": "stream",
          "name": "stdout",
          "text": [
            "0\n",
            "1\n",
            "2\n",
            "3\n",
            "4\n",
            "5\n",
            "6\n",
            "7\n",
            "8\n",
            "9\n"
          ]
        }
      ],
      "source": [
        "for i in range(10):\n",
        "  print(i)"
      ]
    },
    {
      "cell_type": "code",
      "execution_count": null,
      "metadata": {
        "id": "4S_ExdO0cOma"
      },
      "outputs": [],
      "source": []
    },
    {
      "cell_type": "markdown",
      "metadata": {
        "id": "Obt1sxDMcOma"
      },
      "source": [
        "setting starting point with range"
      ]
    },
    {
      "cell_type": "code",
      "execution_count": null,
      "metadata": {
        "id": "Y58vgmJocOma"
      },
      "outputs": [],
      "source": []
    },
    {
      "cell_type": "markdown",
      "metadata": {
        "id": "u4v8B99tcOmb"
      },
      "source": [
        "setting step size with range "
      ]
    },
    {
      "cell_type": "code",
      "execution_count": 59,
      "metadata": {
        "colab": {
          "base_uri": "https://localhost:8080/"
        },
        "id": "o37uxcbKcOmb",
        "outputId": "a65df0d4-5fb9-4b3f-d3b8-6dd63085310e"
      },
      "outputs": [
        {
          "output_type": "stream",
          "name": "stdout",
          "text": [
            "1\n",
            "3\n",
            "5\n",
            "7\n",
            "9\n"
          ]
        }
      ],
      "source": [
        "for i in range(1,10,2):\n",
        "  print(i)"
      ]
    },
    {
      "cell_type": "markdown",
      "metadata": {
        "id": "MwUA7KNIcOmb"
      },
      "source": [
        "## Strings are iterable"
      ]
    },
    {
      "cell_type": "code",
      "execution_count": 60,
      "metadata": {
        "colab": {
          "base_uri": "https://localhost:8080/"
        },
        "id": "yjHsWRPNcOmb",
        "outputId": "42409db9-a0a7-4529-9160-bcb2ab4d4b1e"
      },
      "outputs": [
        {
          "output_type": "stream",
          "name": "stdout",
          "text": [
            "p\n",
            "y\n",
            "t\n",
            "h\n",
            "o\n",
            "n\n"
          ]
        }
      ],
      "source": [
        "for i in \"python\":\n",
        "  print(i)"
      ]
    },
    {
      "cell_type": "markdown",
      "metadata": {
        "id": "Riye-FdfcOmb"
      },
      "source": [
        "We can use the builtin `len` to measure the number of characters in a string:\n",
        "\n",
        "(can also be used to measure length of a list, or any iterable)"
      ]
    },
    {
      "cell_type": "code",
      "execution_count": 61,
      "metadata": {
        "colab": {
          "base_uri": "https://localhost:8080/"
        },
        "id": "wLamSFK_cOmb",
        "outputId": "a221c71e-c6db-4487-bdeb-67d109494556"
      },
      "outputs": [
        {
          "output_type": "execute_result",
          "data": {
            "text/plain": [
              "6"
            ]
          },
          "metadata": {},
          "execution_count": 61
        }
      ],
      "source": [
        "len(\"python\")"
      ]
    },
    {
      "cell_type": "markdown",
      "metadata": {
        "id": "v1rG_uR0cOmb"
      },
      "source": [
        "We can see some of the other functionality available on the `str` object using `dir`:"
      ]
    },
    {
      "cell_type": "code",
      "execution_count": 62,
      "metadata": {
        "colab": {
          "base_uri": "https://localhost:8080/"
        },
        "id": "-decdxjucOmb",
        "outputId": "4c0b4503-92a9-473b-fa99-82a56c708e2a"
      },
      "outputs": [
        {
          "output_type": "execute_result",
          "data": {
            "text/plain": [
              "3"
            ]
          },
          "metadata": {},
          "execution_count": 62
        }
      ],
      "source": [
        "len(first)"
      ]
    },
    {
      "cell_type": "markdown",
      "metadata": {
        "id": "KIHJhfChcOmc"
      },
      "source": [
        "## Exercises\n",
        "\n",
        "Write a program to print out:\n",
        "\n",
        "```\n",
        "*****                                                                  \n",
        "  *                                                                    \n",
        "  *                                                                    \n",
        "  *                                                                    \n",
        "  *                                                                    \n",
        "  *                                                                    \n",
        "  *  \n",
        "```\n",
        "\n",
        "It might be useful to know you can do\n",
        "\n",
        "`'*' * 2 = '**'`\n",
        "\n",
        "`'*' + ' ' = '* '`\n",
        "\n",
        "\n",
        "`'\\n'` makes a line break in python"
      ]
    },
    {
      "cell_type": "code",
      "execution_count": 64,
      "metadata": {
        "colab": {
          "base_uri": "https://localhost:8080/",
          "height": 133
        },
        "id": "eR5E6h-2cOmc",
        "outputId": "814a9cb8-fc96-40ee-a3ed-94cc6adc67eb"
      },
      "outputs": [
        {
          "output_type": "error",
          "ename": "SyntaxError",
          "evalue": "ignored",
          "traceback": [
            "\u001b[0;36m  File \u001b[0;32m\"<ipython-input-64-1301cd2fca55>\"\u001b[0;36m, line \u001b[0;32m3\u001b[0m\n\u001b[0;31m    print(\" \", \" \",'*',\\n')\u001b[0m\n\u001b[0m                        ^\u001b[0m\n\u001b[0;31mSyntaxError\u001b[0m\u001b[0;31m:\u001b[0m unexpected character after line continuation character\n"
          ]
        }
      ],
      "source": [
        "for i in range(7):\n",
        "  if i==1"
      ]
    },
    {
      "cell_type": "markdown",
      "metadata": {
        "id": "BRSt83U2cOmc"
      },
      "source": [
        "Write a program to print:\n",
        "```\n",
        "1\n",
        "22\n",
        "333\n",
        "4444\n",
        "55555\n",
        "666666\n",
        "7777777\n",
        "88888888\n",
        "999999999\n",
        "```"
      ]
    },
    {
      "cell_type": "code",
      "execution_count": null,
      "metadata": {
        "id": "_yVjbuokcOmc"
      },
      "outputs": [],
      "source": []
    },
    {
      "cell_type": "markdown",
      "metadata": {
        "id": "SgtIAe6YcOmc"
      },
      "source": [
        "## Datatypes: Dictionary\n",
        "\n",
        "Dictionaries are a handy way to keep track of data in key-value pairs. \n",
        "`{key1: value1, key2: value2}`\n",
        "\n",
        "Let's make a list of dictionaries:"
      ]
    },
    {
      "cell_type": "code",
      "execution_count": 65,
      "metadata": {
        "id": "6vumig6AcOmc"
      },
      "outputs": [],
      "source": [
        "data = [\n",
        "    {'author': 'F. SCOTT FITZGERALD', 'text': 'Action is character'},\n",
        "    {'author': 'RALPH WALDO EMERSON', 'text': 'Every man is my superior in some way. In that, I learn of him'},\n",
        "    {'author': 'RALPH WALDO EMERSON', 'text': 'The purpose of life is not to be happy. It is to be useful, to be honorable, to be compassionate, to have it make some difference that you have lived and lived well'},\n",
        "    {'author': 'Ralph Waldo Emerson', 'text': 'Every man alone is sincere.  At the entrance of a second persion, hypocrisy beings'},\n",
        "    {'author': 'Majjha Nikaya', 'text': 'This is, because that is.  This is not, because that is not.  This is like this, because this is like that'}\n",
        "]"
      ]
    },
    {
      "cell_type": "markdown",
      "metadata": {
        "id": "ZR_X13pCcOmd"
      },
      "source": [
        "We can select our first quote dictionary:"
      ]
    },
    {
      "cell_type": "code",
      "execution_count": 66,
      "metadata": {
        "colab": {
          "base_uri": "https://localhost:8080/"
        },
        "id": "2HBDql_tcOmd",
        "outputId": "9da817a6-d8c2-4bb7-ecb5-bb46a00e2d72"
      },
      "outputs": [
        {
          "output_type": "execute_result",
          "data": {
            "text/plain": [
              "5"
            ]
          },
          "metadata": {},
          "execution_count": 66
        }
      ],
      "source": [
        "len(data)"
      ]
    },
    {
      "cell_type": "markdown",
      "metadata": {
        "id": "7g2CzByncOmd"
      },
      "source": [
        "We can iterate over the keys:"
      ]
    },
    {
      "cell_type": "code",
      "execution_count": 67,
      "metadata": {
        "id": "VixGLyLDcOmd"
      },
      "outputs": [],
      "source": [
        "dict_1 = data[0]"
      ]
    },
    {
      "cell_type": "code",
      "source": [
        "dict_1[\"text\"]"
      ],
      "metadata": {
        "colab": {
          "base_uri": "https://localhost:8080/",
          "height": 35
        },
        "id": "JasO12hi1Jak",
        "outputId": "8912cd20-3eed-4303-84da-56550dd512c0"
      },
      "execution_count": 68,
      "outputs": [
        {
          "output_type": "execute_result",
          "data": {
            "text/plain": [
              "'Action is character'"
            ],
            "application/vnd.google.colaboratory.intrinsic+json": {
              "type": "string"
            }
          },
          "metadata": {},
          "execution_count": 68
        }
      ]
    },
    {
      "cell_type": "code",
      "source": [
        "for key in dict_1:"
      ],
      "metadata": {
        "id": "VJXhlb-a1VM4"
      },
      "execution_count": null,
      "outputs": []
    },
    {
      "cell_type": "markdown",
      "metadata": {
        "id": "8lU9JR7ZcOmd"
      },
      "source": [
        "And the same for the values:"
      ]
    },
    {
      "cell_type": "code",
      "execution_count": null,
      "metadata": {
        "id": "QMCk2dhgcOmd"
      },
      "outputs": [],
      "source": []
    },
    {
      "cell_type": "markdown",
      "metadata": {
        "id": "NzPk3mNtcOmd"
      },
      "source": [
        "And both at the same time:"
      ]
    },
    {
      "cell_type": "code",
      "execution_count": 69,
      "metadata": {
        "colab": {
          "base_uri": "https://localhost:8080/"
        },
        "id": "YlOCqd0AcOme",
        "outputId": "0d5b168c-bba4-4178-8bb2-4af9ce101478"
      },
      "outputs": [
        {
          "output_type": "stream",
          "name": "stdout",
          "text": [
            "0 2\n",
            "1 4\n",
            "2 5\n"
          ]
        }
      ],
      "source": [
        "for index, element in enumerate(first):\n",
        "  print(index,element)"
      ]
    },
    {
      "cell_type": "markdown",
      "metadata": {
        "id": "mT_TmGe6cOme"
      },
      "source": [
        "We can then use the dictionaries to make a DataFrame (more on this in the pandas class :) )"
      ]
    },
    {
      "cell_type": "code",
      "execution_count": null,
      "metadata": {
        "id": "6F4KhxMlcOme"
      },
      "outputs": [],
      "source": [
        "import pandas as pd"
      ]
    },
    {
      "cell_type": "code",
      "execution_count": null,
      "metadata": {
        "id": "9B7QN1s6cOmf"
      },
      "outputs": [],
      "source": []
    },
    {
      "cell_type": "markdown",
      "metadata": {
        "id": "QpP0Tgw7cOmf"
      },
      "source": [
        "## Exercises:"
      ]
    },
    {
      "cell_type": "markdown",
      "metadata": {
        "id": "VKr4BwuocOmf"
      },
      "source": [
        "Write a Python program to display the first and last colors from the following list.\n",
        "\n",
        "color_list = [\"Red\",\"Green\",\"White\" ,\"Black\"]\n",
        "\n",
        "Should display \"Red Black\""
      ]
    },
    {
      "cell_type": "code",
      "execution_count": 70,
      "metadata": {
        "id": "HsuBOW-bcOmf"
      },
      "outputs": [],
      "source": [
        "color_list = [\"Red\",\"Green\",\"White\" ,\"Black\"]"
      ]
    },
    {
      "cell_type": "code",
      "source": [
        "print(color_list[0],color_list[3])"
      ],
      "metadata": {
        "colab": {
          "base_uri": "https://localhost:8080/"
        },
        "id": "Rkp3A-Pr2hXM",
        "outputId": "6a55cbde-26f8-4c74-ce6b-870cc37a12aa"
      },
      "execution_count": 73,
      "outputs": [
        {
          "output_type": "stream",
          "name": "stdout",
          "text": [
            "Red Black\n"
          ]
        }
      ]
    },
    {
      "cell_type": "markdown",
      "metadata": {
        "id": "RNorTAbxcOmf"
      },
      "source": [
        "Sum all the items in the following list:\n",
        "x = [1, 2, 3, 7, 12]\n",
        "\n",
        "(hint: no using built-in functions!)"
      ]
    },
    {
      "cell_type": "code",
      "execution_count": 74,
      "metadata": {
        "id": "VHWBFvf9cOmf"
      },
      "outputs": [],
      "source": [
        "x = [1, 2, 3, 7, 12]"
      ]
    },
    {
      "cell_type": "code",
      "source": [
        "sum = 0\n",
        "for i in x:\n",
        "  sum = sum + i\n",
        "print(sum)"
      ],
      "metadata": {
        "colab": {
          "base_uri": "https://localhost:8080/"
        },
        "id": "-7qFqN5z3bBp",
        "outputId": "8c08c7d4-e68b-4230-8f69-67e9545c8b71"
      },
      "execution_count": 75,
      "outputs": [
        {
          "output_type": "stream",
          "name": "stdout",
          "text": [
            "25\n"
          ]
        }
      ]
    },
    {
      "cell_type": "markdown",
      "metadata": {
        "id": "SGgoGLixcOmg"
      },
      "source": [
        "Get the maximum number from a list: y = [-10, 6, 8, 14]\n",
        "\n",
        "(hint: no using built-in functions!)"
      ]
    },
    {
      "cell_type": "code",
      "execution_count": 76,
      "metadata": {
        "id": "f9t1ReRkcOmg"
      },
      "outputs": [],
      "source": [
        "y = [-10, 6, 8, 14]"
      ]
    },
    {
      "cell_type": "code",
      "source": [
        "print(range(3))"
      ],
      "metadata": {
        "colab": {
          "base_uri": "https://localhost:8080/"
        },
        "id": "1vn81W0T6I6w",
        "outputId": "fde988ab-1783-4577-b4a9-a97baf51d225"
      },
      "execution_count": 81,
      "outputs": [
        {
          "output_type": "stream",
          "name": "stdout",
          "text": [
            "range(0, 3)\n"
          ]
        }
      ]
    },
    {
      "cell_type": "code",
      "source": [
        "\n",
        "for index, i in enumerate(y):\n",
        "  if index == 0:\n",
        "    highest = index\n",
        "  else:\n",
        "    if i > highest:\n",
        "      highest = i\n",
        "print(highest)\n"
      ],
      "metadata": {
        "colab": {
          "base_uri": "https://localhost:8080/"
        },
        "id": "LHm4A0Ug4klh",
        "outputId": "2698baa9-0f7f-4456-8e50-3ccda29445ba"
      },
      "execution_count": 98,
      "outputs": [
        {
          "output_type": "stream",
          "name": "stdout",
          "text": [
            "14\n"
          ]
        }
      ]
    },
    {
      "cell_type": "markdown",
      "metadata": {
        "id": "joF3P-HecOmg"
      },
      "source": [
        "Check if a list is empty or not.\n",
        "\n",
        "For list p = [ ], should print \"True\".\n",
        "\n",
        "For list q = [1, 2, 3, 4] should print \"False\". "
      ]
    },
    {
      "cell_type": "code",
      "execution_count": 84,
      "metadata": {
        "id": "m0OMXd7OcOmh"
      },
      "outputs": [],
      "source": [
        "p =[]"
      ]
    },
    {
      "cell_type": "code",
      "execution_count": 86,
      "metadata": {
        "colab": {
          "base_uri": "https://localhost:8080/"
        },
        "id": "oVdV9WsgcOmi",
        "outputId": "d392ce36-58f4-412f-dac6-3ddb92091a0d"
      },
      "outputs": [
        {
          "output_type": "execute_result",
          "data": {
            "text/plain": [
              "True"
            ]
          },
          "metadata": {},
          "execution_count": 86
        }
      ],
      "source": [
        "len(p)==0\n"
      ]
    },
    {
      "cell_type": "code",
      "source": [
        "q = [1, 2, 3, 4]"
      ],
      "metadata": {
        "id": "Tex2NRNx7GWa"
      },
      "execution_count": 87,
      "outputs": []
    },
    {
      "cell_type": "code",
      "source": [
        "len(q)==0"
      ],
      "metadata": {
        "colab": {
          "base_uri": "https://localhost:8080/"
        },
        "id": "ehLkHiGC7L_q",
        "outputId": "348324bc-a5f7-4d21-c0a2-0f42f742e868"
      },
      "execution_count": 92,
      "outputs": [
        {
          "output_type": "execute_result",
          "data": {
            "text/plain": [
              "False"
            ]
          },
          "metadata": {},
          "execution_count": 92
        }
      ]
    },
    {
      "cell_type": "markdown",
      "metadata": {
        "id": "GV3VCHWocOmi"
      },
      "source": [
        "Add the {key: value} pair `{\"Susan: 43}` to the dictionary `ages = {\"Joe\": 50, \"Gretchen\": 31}`"
      ]
    },
    {
      "cell_type": "code",
      "execution_count": 93,
      "metadata": {
        "id": "gZgZ4W52cOmj"
      },
      "outputs": [],
      "source": [
        "ages = {\"Joe\": 50, \"Gretchen\": 31}"
      ]
    },
    {
      "cell_type": "code",
      "source": [
        "ages[\"Susan\"] = 43"
      ],
      "metadata": {
        "id": "DLdk3S809Fi4"
      },
      "execution_count": 95,
      "outputs": []
    },
    {
      "cell_type": "code",
      "execution_count": 96,
      "metadata": {
        "colab": {
          "base_uri": "https://localhost:8080/"
        },
        "id": "eq_sWpm8cOmj",
        "outputId": "d519a5f9-c4ef-444e-9deb-d8fe8dc20c4d"
      },
      "outputs": [
        {
          "output_type": "execute_result",
          "data": {
            "text/plain": [
              "{'Joe': 50, 'Gretchen': 31, 'Susan': 43}"
            ]
          },
          "metadata": {},
          "execution_count": 96
        }
      ],
      "source": [
        "ages"
      ]
    }
  ],
  "metadata": {
    "kernelspec": {
      "display_name": "Python 3 (ipykernel)",
      "language": "python",
      "name": "python3"
    },
    "language_info": {
      "codemirror_mode": {
        "name": "ipython",
        "version": 3
      },
      "file_extension": ".py",
      "mimetype": "text/x-python",
      "name": "python",
      "nbconvert_exporter": "python",
      "pygments_lexer": "ipython3",
      "version": "3.9.6"
    },
    "colab": {
      "provenance": []
    }
  },
  "nbformat": 4,
  "nbformat_minor": 0
}